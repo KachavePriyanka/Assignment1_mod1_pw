{
  "cells": [
    {
      "cell_type": "code",
      "execution_count": 1,
      "id": "f6d21756-cf32-4100-896d-b30caa052dd0",
      "metadata": {
        "colab": {
          "base_uri": "https://localhost:8080/"
        },
        "id": "f6d21756-cf32-4100-896d-b30caa052dd0",
        "outputId": "4a51d5a3-a513-407d-f070-db59e23f00c4"
      },
      "outputs": [
        {
          "output_type": "stream",
          "name": "stdout",
          "text": [
            "gninroM dooG\n"
          ]
        }
      ],
      "source": [
        "#1.write a code to reverse a string\n",
        "a=\"Good Morning\"\n",
        "print(a[::-1])"
      ]
    },
    {
      "cell_type": "code",
      "execution_count": 2,
      "id": "8f076557-49d3-4b3a-b9b2-dc78eb1a999f",
      "metadata": {
        "colab": {
          "base_uri": "https://localhost:8080/"
        },
        "id": "8f076557-49d3-4b3a-b9b2-dc78eb1a999f",
        "outputId": "7016c4e1-1bfe-4e91-bf4b-5ad1452d353f"
      },
      "outputs": [
        {
          "output_type": "stream",
          "name": "stdout",
          "text": [
            "enter somethingPriyanka\n",
            "Priyanka\n",
            "3\n"
          ]
        }
      ],
      "source": [
        "#2 write a code to count the number of vowels in a string\n",
        "a=input(\"enter something\")\n",
        "vowel=\"aeiuoAEIOU\"\n",
        "count=0\n",
        "print(a)\n",
        "for i in a:\n",
        "    if i in vowel:\n",
        "       count+=1\n",
        "\n",
        "print(count)"
      ]
    },
    {
      "cell_type": "code",
      "execution_count": 3,
      "id": "fd3929b3-333c-49e3-836b-a5859e893a9b",
      "metadata": {
        "colab": {
          "base_uri": "https://localhost:8080/"
        },
        "id": "fd3929b3-333c-49e3-836b-a5859e893a9b",
        "outputId": "f2cc0b84-948a-41da-a42f-0f8c3642fec9"
      },
      "outputs": [
        {
          "output_type": "stream",
          "name": "stdout",
          "text": [
            "enter a stringmomo\n",
            "The string is not a palindrome\n"
          ]
        }
      ],
      "source": [
        "#3. write a code to check if a given string is a palindrome or not\n",
        "a=input(\"enter a string\")\n",
        "if len(a)>2:\n",
        "    if(a==a[::-1]):\n",
        "        print(\"The string is palindrome\")\n",
        "    else:\n",
        "        print(\"The string is not a palindrome\")\n",
        "else:\n",
        "    print(\"string is not valid\")"
      ]
    },
    {
      "cell_type": "code",
      "execution_count": 4,
      "id": "a58754fc-b219-4a14-ba3f-90661d5ab235",
      "metadata": {
        "colab": {
          "base_uri": "https://localhost:8080/"
        },
        "id": "a58754fc-b219-4a14-ba3f-90661d5ab235",
        "outputId": "cf34b9da-c0ca-4a70-b41e-e97d3c41f05d"
      },
      "outputs": [
        {
          "output_type": "stream",
          "name": "stdout",
          "text": [
            "enter a namesilent\n",
            "enter a namelisten\n",
            "It is an anagram\n",
            "It is an anagram\n",
            "It is an anagram\n",
            "It is an anagram\n",
            "It is an anagram\n",
            "It is an anagram\n"
          ]
        }
      ],
      "source": [
        "#4.  write a code to check if two given strings are anagrams of each other\n",
        "a=input(\"enter a name\")\n",
        "b=input(\"enter a name\")\n",
        "if(len(a)!=len(b)):\n",
        "    print(\"not an anagram\")\n",
        "else:\n",
        "    for i in a:\n",
        "        if i not in b:\n",
        "           print(\"Not an anagram\")\n",
        "           break\n",
        "        else:\n",
        "            print(\"It is an anagram\")"
      ]
    },
    {
      "cell_type": "code",
      "execution_count": 5,
      "id": "6cea171f-27d9-4da0-ae43-9753d17d59c9",
      "metadata": {
        "colab": {
          "base_uri": "https://localhost:8080/"
        },
        "id": "6cea171f-27d9-4da0-ae43-9753d17d59c9",
        "outputId": "9bd07605-13e8-4096-90cb-45066b5ffdc0"
      },
      "outputs": [
        {
          "output_type": "stream",
          "name": "stdout",
          "text": [
            "enter a stringgood morning , hello all of u\n",
            "[15]\n"
          ]
        }
      ],
      "source": [
        "#5.write a code to find all occurrences of a given substring within another string.\n",
        "string=input(\"enter a string\")\n",
        "sub=\"hello\"\n",
        "start=0\n",
        "pos=[]\n",
        "while True:\n",
        "    start=string.find(sub,start)\n",
        "    if start==-1:\n",
        "        break\n",
        "    pos.append(start)\n",
        "    start+=1\n",
        "print(pos)"
      ]
    },
    {
      "cell_type": "code",
      "execution_count": 6,
      "id": "3f1d9d11-aaf5-415c-939e-ef4208d7028b",
      "metadata": {
        "colab": {
          "base_uri": "https://localhost:8080/"
        },
        "id": "3f1d9d11-aaf5-415c-939e-ef4208d7028b",
        "outputId": "c66716ce-325f-46eb-cd33-23e4f4cbce6b"
      },
      "outputs": [
        {
          "output_type": "stream",
          "name": "stdout",
          "text": [
            "Compressed string: a2b1c1d2e2\n"
          ]
        }
      ],
      "source": [
        "#6. write a code to perform basic string compression using the counts of repeated characters\n",
        "in_string =\"aabcddee\"\n",
        "compre_str =\"\"\n",
        "count = 1\n",
        "\n",
        "for i in range(len(in_string) - 1):\n",
        "    if in_string[i] == in_string[i + 1]:\n",
        "        count += 1\n",
        "    else:\n",
        "        compre_str += in_string[i] + str(count)\n",
        "        count = 1\n",
        "\n",
        "\n",
        "compre_str += in_string[-1] + str(count)\n",
        "print(\"Compressed string:\", compre_str)\n"
      ]
    },
    {
      "cell_type": "code",
      "execution_count": 54,
      "id": "563145f1-8a72-427f-8725-e9d16d3f91f0",
      "metadata": {
        "colab": {
          "base_uri": "https://localhost:8080/"
        },
        "id": "563145f1-8a72-427f-8725-e9d16d3f91f0",
        "outputId": "505aacf5-77d2-4645-dbb6-5a252cfafbab"
      },
      "outputs": [
        {
          "output_type": "stream",
          "name": "stdout",
          "text": [
            "enter a stringWomen\n",
            "All unique characters\n"
          ]
        }
      ],
      "source": [
        "#7. wite a code to determine if a string has all unique characters\n",
        "a=input(\"enter a string\")\n",
        "if len(a)==len(set(a)):\n",
        "    print(\"All unique characters\")\n",
        "else:\n",
        "    print(\"Not all unique characters\")"
      ]
    },
    {
      "cell_type": "code",
      "execution_count": 8,
      "id": "a7b243be-5c39-4889-a7e2-ed31c122955c",
      "metadata": {
        "colab": {
          "base_uri": "https://localhost:8080/"
        },
        "id": "a7b243be-5c39-4889-a7e2-ed31c122955c",
        "outputId": "9a73a6f5-2775-4d7e-8756-61aa98ce8d93"
      },
      "outputs": [
        {
          "output_type": "stream",
          "name": "stdout",
          "text": [
            "enter stringPriya\n",
            "PRIYA\n"
          ]
        }
      ],
      "source": [
        "#8. write a code to convert a given string to uppercase or lowercase\n",
        "k=input(\"enter string\")\n",
        "print(k.upper())"
      ]
    },
    {
      "cell_type": "code",
      "execution_count": 9,
      "id": "1d3acbc3-ab5c-4b11-a611-614c46e0dc23",
      "metadata": {
        "colab": {
          "base_uri": "https://localhost:8080/"
        },
        "id": "1d3acbc3-ab5c-4b11-a611-614c46e0dc23",
        "outputId": "68fd1205-3d04-4ed0-80bd-db4541e63e94"
      },
      "outputs": [
        {
          "output_type": "stream",
          "name": "stdout",
          "text": [
            "write sentenceBe a good human being\n",
            "Be a good human being\n",
            "5\n"
          ]
        }
      ],
      "source": [
        "#9. write a code to count the number of words in a string\n",
        "p=input(\"write sentence\")\n",
        "print(p)\n",
        "count_wor=p.split( )\n",
        "print(len(count_wor))"
      ]
    },
    {
      "cell_type": "code",
      "execution_count": 10,
      "id": "5520dd91-7dda-486a-a003-c567f2656c88",
      "metadata": {
        "colab": {
          "base_uri": "https://localhost:8080/"
        },
        "id": "5520dd91-7dda-486a-a003-c567f2656c88",
        "outputId": "06eabaf7-96e5-4a0d-d2e2-8c2f140d182d"
      },
      "outputs": [
        {
          "output_type": "stream",
          "name": "stdout",
          "text": [
            "enter 1st stringGood\n",
            "enter 2nd stringMorning\n",
            "Good Morning\n"
          ]
        }
      ],
      "source": [
        "#10. write a code to concatenate 2 strings without using the + operator\n",
        "a=input(\"enter 1st string\")\n",
        "b=input(\"enter 2nd string\")\n",
        "conca=' '.join([a,b])\n",
        "print(conca)"
      ]
    },
    {
      "cell_type": "code",
      "execution_count": 11,
      "id": "55450dc0-e089-49b2-aeb8-fb6b67d737fe",
      "metadata": {
        "colab": {
          "base_uri": "https://localhost:8080/"
        },
        "id": "55450dc0-e089-49b2-aeb8-fb6b67d737fe",
        "outputId": "7e84c882-db2a-4763-c3b2-2106b2adb7d0"
      },
      "outputs": [
        {
          "output_type": "stream",
          "name": "stdout",
          "text": [
            "[1, 3, 4, 5]\n"
          ]
        }
      ],
      "source": [
        "#11 write a code to remove all occurrneces of a specific element from a list\n",
        "a=[1,2,3,2,4,5]\n",
        "remove=2\n",
        "new=[i for i in a if i!=remove]\n",
        "print(new)"
      ]
    },
    {
      "cell_type": "code",
      "execution_count": 12,
      "id": "be80142a-225a-46b1-8625-fd8b0c4e8007",
      "metadata": {
        "colab": {
          "base_uri": "https://localhost:8080/"
        },
        "id": "be80142a-225a-46b1-8625-fd8b0c4e8007",
        "outputId": "f3859552-02e1-4e90-8ef3-5690063001a7"
      },
      "outputs": [
        {
          "output_type": "stream",
          "name": "stdout",
          "text": [
            "45\n"
          ]
        }
      ],
      "source": [
        "#12 implement code to find the second largest no. in a given list of integers.\n",
        "a=[10,22,11,90,20,23,45]\n",
        "a.sort()\n",
        "print(a[-2])"
      ]
    },
    {
      "cell_type": "code",
      "execution_count": 50,
      "id": "b559af20-c052-4e0f-8fda-06db461fc0da",
      "metadata": {
        "colab": {
          "base_uri": "https://localhost:8080/"
        },
        "id": "b559af20-c052-4e0f-8fda-06db461fc0da",
        "outputId": "9923551c-d3eb-45e7-8286-b79cc52923c1"
      },
      "outputs": [
        {
          "output_type": "stream",
          "name": "stdout",
          "text": [
            "{1: 1, 2: 4, 3: 3, 4: 1, 5: 2, 6: 1, 7: 1}\n"
          ]
        }
      ],
      "source": [
        "#13. create a code to count the occurrences of each element in a list and return a dictionary with\n",
        "#elements as keys and their counts as values\n",
        "input_list=[1,2,3,3,3,4,5,2,2,2,5,6,7]\n",
        "count={}\n",
        "for i in input_list:\n",
        "  if i in count:\n",
        "    count[i]+=1\n",
        "  else:\n",
        "    count[i]=1\n",
        "print(count)"
      ]
    },
    {
      "cell_type": "code",
      "execution_count": 13,
      "id": "f5cc0123-e769-4f60-ad3f-ba4ce9f31559",
      "metadata": {
        "colab": {
          "base_uri": "https://localhost:8080/"
        },
        "id": "f5cc0123-e769-4f60-ad3f-ba4ce9f31559",
        "outputId": "476d1369-33f8-4b4f-ef2c-a2da18ff8efb"
      },
      "outputs": [
        {
          "output_type": "stream",
          "name": "stdout",
          "text": [
            "[5, 4, 3, 2, 1]\n"
          ]
        }
      ],
      "source": [
        "#14 write a code to reverse a list in-place without using any built in reverse functions\n",
        "a=[1,2,3,4,5]\n",
        "print(a[::-1])"
      ]
    },
    {
      "cell_type": "code",
      "execution_count": 14,
      "id": "6492a42b-62e2-4a48-8db0-51afbe8fbf75",
      "metadata": {
        "colab": {
          "base_uri": "https://localhost:8080/"
        },
        "id": "6492a42b-62e2-4a48-8db0-51afbe8fbf75",
        "outputId": "b09cb730-93b0-4904-e580-9adbac7b73d4"
      },
      "outputs": [
        {
          "output_type": "stream",
          "name": "stdout",
          "text": [
            "[1, 2, 3, 4]\n"
          ]
        }
      ],
      "source": [
        "#15 implement a code to find and remove duplicates from a list while preserving the original order of elements\n",
        "lis=[1,2,3,3,2,1,4]\n",
        "uni_l=[]\n",
        "for element in lis:\n",
        "    if element not in uni_l:\n",
        "        uni_l.append(element)\n",
        "print(uni_l)"
      ]
    },
    {
      "cell_type": "code",
      "execution_count": 15,
      "id": "dd6deba9-7072-4588-a52f-599acfdcb422",
      "metadata": {
        "colab": {
          "base_uri": "https://localhost:8080/"
        },
        "id": "dd6deba9-7072-4588-a52f-599acfdcb422",
        "outputId": "050876d4-8304-4d0a-ba05-e297b991ea97"
      },
      "outputs": [
        {
          "output_type": "stream",
          "name": "stdout",
          "text": [
            "[10, 22, 30, 32, 34, 40, 67, 70]\n"
          ]
        }
      ],
      "source": [
        "#16 Create a code to check if a given list in sorted (either in 'ascending or descending order) or not\n",
        "p=[10,30,22,40,34,32,70,67]\n",
        "p.sort()\n",
        "print(p)"
      ]
    },
    {
      "cell_type": "code",
      "execution_count": 16,
      "id": "92a639bf-402b-44a0-a07a-662d4a206a4e",
      "metadata": {
        "colab": {
          "base_uri": "https://localhost:8080/"
        },
        "id": "92a639bf-402b-44a0-a07a-662d4a206a4e",
        "outputId": "f2610ebb-7c45-4303-d118-a8dd8c95f1b3"
      },
      "outputs": [
        {
          "output_type": "stream",
          "name": "stdout",
          "text": [
            "[1, 2, 3, 4, 5, 6, 8, 9]\n"
          ]
        }
      ],
      "source": [
        "#17 write a code to merge two sorted lists into a single sorted list\n",
        "l1=[1,2,4,5]\n",
        "l2=[6,3,8,9]\n",
        "k=sorted(l1+l2)\n",
        "print(k)"
      ]
    },
    {
      "cell_type": "code",
      "execution_count": 17,
      "id": "75f27cea-7a41-40bf-b7ba-9610f489efb3",
      "metadata": {
        "colab": {
          "base_uri": "https://localhost:8080/"
        },
        "id": "75f27cea-7a41-40bf-b7ba-9610f489efb3",
        "outputId": "74c431dc-0fdf-4018-cb85-3fdd1280a5d5"
      },
      "outputs": [
        {
          "output_type": "stream",
          "name": "stdout",
          "text": [
            "[33, 4, 22]\n"
          ]
        }
      ],
      "source": [
        "#18 implement a code to find the intersection of 2 given lists.\n",
        "l1=[1,22,33,4,5]\n",
        "l2=[2,33,8,22,4]\n",
        "inter=list(set(l1)&set(l2))\n",
        "print(inter)"
      ]
    },
    {
      "cell_type": "code",
      "execution_count": 18,
      "id": "a48d8849-ce67-444f-b988-05bc5c7eaeec",
      "metadata": {
        "colab": {
          "base_uri": "https://localhost:8080/"
        },
        "id": "a48d8849-ce67-444f-b988-05bc5c7eaeec",
        "outputId": "7bc545e2-99ec-45f7-85f1-6f57d09bb53f"
      },
      "outputs": [
        {
          "output_type": "stream",
          "name": "stdout",
          "text": [
            "[1, 33, 2, 4, 5, 8, 22]\n"
          ]
        }
      ],
      "source": [
        "#19 create a code of find the union of 2 lists without duplicates\n",
        "l1=[1,22,33,4,5]\n",
        "l2=[2,33,8,22,4]\n",
        "inter=list(set(l1) | set(l2))\n",
        "print(inter)"
      ]
    },
    {
      "cell_type": "code",
      "execution_count": 44,
      "id": "f2dc5532-9100-4fe4-8ff1-3a8157819fd3",
      "metadata": {
        "colab": {
          "base_uri": "https://localhost:8080/"
        },
        "id": "f2dc5532-9100-4fe4-8ff1-3a8157819fd3",
        "outputId": "52493818-0e7f-4634-c8f8-f5b62746b747"
      },
      "outputs": [
        {
          "output_type": "stream",
          "name": "stdout",
          "text": [
            "Original list=  [1, 22, 33, 4, 5]\n",
            "Shuffled list=  [5, 4, 1, 22, 33]\n"
          ]
        }
      ],
      "source": [
        "#20 write a code to shuffle a given list randomly without using any built in shuffle functions\n",
        "import random\n",
        "l1=[1,22,33,4,5]\n",
        "print(\"Original list= \",l1)\n",
        "for i in range(len(l1)):\n",
        "    j=random.randint(0,len(l1)-1)\n",
        "    l1[i],l1[j]=l1[j],l1[i]\n",
        "print(\"Shuffled list= \",l1)"
      ]
    },
    {
      "cell_type": "code",
      "execution_count": 20,
      "id": "c4689590-55ed-42f2-825b-a1bcf768a1a4",
      "metadata": {
        "colab": {
          "base_uri": "https://localhost:8080/"
        },
        "id": "c4689590-55ed-42f2-825b-a1bcf768a1a4",
        "outputId": "6a282aad-20d7-404d-c1d8-1824fe57f990"
      },
      "outputs": [
        {
          "output_type": "stream",
          "name": "stdout",
          "text": [
            "[4, 5]\n"
          ]
        }
      ],
      "source": [
        "#21 write a code that takes 2 tuples as input and returns a new tuple containing the elements that are\n",
        "#commoon to both input tuples.\n",
        "t1=(1,2,3,4,5)\n",
        "t2=(4,5,6,7)\n",
        "common=[]\n",
        "for a in t1:\n",
        "    if a in t2:\n",
        "        common.append(a)\n",
        "print(common)\n",
        ""
      ]
    },
    {
      "cell_type": "code",
      "execution_count": 19,
      "id": "3d67c89e-2c96-487f-b965-d19abeab2d69",
      "metadata": {
        "colab": {
          "base_uri": "https://localhost:8080/"
        },
        "id": "3d67c89e-2c96-487f-b965-d19abeab2d69",
        "outputId": "3ef94c98-7acf-4c3a-cde7-d476c116fad6"
      },
      "outputs": [
        {
          "output_type": "stream",
          "name": "stdout",
          "text": [
            "enter set of integer, separated by commas1,2,3,4,5\n",
            "enter set of integer, separated by commas4,5,6,7,8\n",
            "{4, 5}\n"
          ]
        }
      ],
      "source": [
        "#22 create a code that prompts the user to enter 2 sets of integers separated by commas. then ,\n",
        "#print the intersection of these 2 sets\n",
        "set1=input(\"enter set of integer, separated by commas\")\n",
        "set2=input(\"enter set of integer, separated by commas\")\n",
        "s1=set(map(int,set1.split(\",\")))\n",
        "s2=set(map(int,set2.split(\",\")))\n",
        "print(s1.intersection(s2))"
      ]
    },
    {
      "cell_type": "code",
      "execution_count": 22,
      "id": "1d01efa7-6ff5-4348-886d-e3d11f382f17",
      "metadata": {
        "colab": {
          "base_uri": "https://localhost:8080/"
        },
        "id": "1d01efa7-6ff5-4348-886d-e3d11f382f17",
        "outputId": "0a3f2e56-639d-4d21-dea3-6438202093ad"
      },
      "outputs": [
        {
          "output_type": "stream",
          "name": "stdout",
          "text": [
            "(4, 5, 6, 1, 2, 3)\n"
          ]
        }
      ],
      "source": [
        "#23 write a code to concatenate 2 tuples. the function should take 2 tuples as input and return a new tuple\n",
        "# containing elements from both input tuples.\n",
        "def concattuple(t1,t2):\n",
        "    return t1+t2\n",
        "t1=(4,5,6)\n",
        "t2=(1,2,3)\n",
        "result=concattuple(t1,t2)\n",
        "print(result)"
      ]
    },
    {
      "cell_type": "code",
      "execution_count": 40,
      "id": "bb6b7c7a-6123-4776-971a-cde46fb36b98",
      "metadata": {
        "colab": {
          "base_uri": "https://localhost:8080/"
        },
        "id": "bb6b7c7a-6123-4776-971a-cde46fb36b98",
        "outputId": "676c6140-d31c-4628-f092-eb53e562340e"
      },
      "outputs": [
        {
          "output_type": "stream",
          "name": "stdout",
          "text": [
            "enter 1st set element1,2,3,4,5\n",
            "enter 2nd set element4,5,6,7,8\n",
            "{'1,2,3,4,5'}\n"
          ]
        }
      ],
      "source": [
        "#24 develop a code that prompts the user to input 2 sets of strings. then , print the elements\n",
        "#that are present in the first set but not in the second set\n",
        "set1=set(input(\"enter 1st set element\").split())\n",
        "set2=set(input(\"enter 2nd set element\").split())\n",
        "result=set1.difference(set2)\n",
        "print(result)"
      ]
    },
    {
      "cell_type": "code",
      "execution_count": 41,
      "id": "9c5577c4-da6e-49ec-86e6-f4b49af613d5",
      "metadata": {
        "colab": {
          "base_uri": "https://localhost:8080/"
        },
        "id": "9c5577c4-da6e-49ec-86e6-f4b49af613d5",
        "outputId": "b70f2007-7582-4cea-d82a-26dc964c7819"
      },
      "outputs": [
        {
          "output_type": "stream",
          "name": "stdout",
          "text": [
            "(40, 50, 60, 70)\n"
          ]
        }
      ],
      "source": [
        "#25 create a code that takes a tuple and 2 integers as input. the function should return\n",
        "# a new tuple containing elements from the original tuple within the specified range of indices\n",
        "t1=(10,20,30,40,50,60,70,80)\n",
        "start_index=3\n",
        "end_index=6\n",
        "print(t1[start_index:end_index+1])"
      ]
    },
    {
      "cell_type": "code",
      "execution_count": 23,
      "id": "42e373ab-1945-4945-95b7-0049cc30d041",
      "metadata": {
        "colab": {
          "base_uri": "https://localhost:8080/"
        },
        "id": "42e373ab-1945-4945-95b7-0049cc30d041",
        "outputId": "dda5b897-dfdd-41d9-c8af-a51564ba7972"
      },
      "outputs": [
        {
          "output_type": "stream",
          "name": "stdout",
          "text": [
            "enter 1st set element1 2 3 4 5 \n",
            "enter 2nd set element3 5 6 7 8\n",
            "{'2', '3', '5', '4', '8', '6', '1', '7'}\n"
          ]
        }
      ],
      "source": [
        "#26. write a code that prompts the user to input 2 sets of characters. then , print the union of these 2 sets\n",
        "set1=set(input(\"enter 1st set element\").split())\n",
        "set2=set(input(\"enter 2nd set element\").split())\n",
        "result=set1.union(set2)\n",
        "print(result)"
      ]
    },
    {
      "cell_type": "code",
      "execution_count": 35,
      "id": "48c82942-b316-4bee-96ef-0dd683202533",
      "metadata": {
        "colab": {
          "base_uri": "https://localhost:8080/"
        },
        "id": "48c82942-b316-4bee-96ef-0dd683202533",
        "outputId": "ac7a8464-d6f8-460b-bcbb-a7fb0122bd2a"
      },
      "outputs": [
        {
          "output_type": "stream",
          "name": "stdout",
          "text": [
            "Maximum value=  90\n",
            "Minimum value=  10\n"
          ]
        }
      ],
      "source": [
        "#27 develop a code that takes a tuple of integers as input. the function should return the maximum and\n",
        "#minimum values  from the tuple using tuple unpacking.\n",
        "input_tuple=(10,30,40,80,33,45,90,88)\n",
        "max_value=max(input_tuple)\n",
        "min_value=min(input_tuple)\n",
        "print(\"Maximum value= \",max_value)\n",
        "print(\"Minimum value= \",min_value)"
      ]
    },
    {
      "cell_type": "code",
      "execution_count": 33,
      "id": "3d5e1a22-7e2b-4b68-8b8b-4e1434e79e5a",
      "metadata": {
        "colab": {
          "base_uri": "https://localhost:8080/"
        },
        "id": "3d5e1a22-7e2b-4b68-8b8b-4e1434e79e5a",
        "outputId": "b236bac4-18e0-4741-872a-7d177bf6fcca"
      },
      "outputs": [
        {
          "output_type": "stream",
          "name": "stdout",
          "text": [
            "Intersection =  {4, 5}\n",
            "Union=  {1, 2, 3, 4, 5, 6, 7, 8}\n",
            "Difference=  {1, 2, 3}\n",
            "symmetric difference=  {1, 2, 3, 6, 7, 8}\n"
          ]
        }
      ],
      "source": [
        "#28 create a code that defines 2 sets of integers. then , print the union ,intersection and difference of\n",
        "#these 2 sets\n",
        "set1={1,2,3,4,5}\n",
        "set2={4,5,6,7,8}\n",
        "print(\"Intersection = \",set1 & set2)\n",
        "print(\"Union= \",set1 | set2)\n",
        "print(\"Difference= \",set1 - set2)\n",
        "print(\"symmetric difference= \",set1 ^ set2)"
      ]
    },
    {
      "cell_type": "code",
      "execution_count": 28,
      "id": "8ed032ab-d9e3-4232-880f-85cd472dfaa2",
      "metadata": {
        "colab": {
          "base_uri": "https://localhost:8080/"
        },
        "id": "8ed032ab-d9e3-4232-880f-85cd472dfaa2",
        "outputId": "1c5c6094-c35d-4841-d960-1d3cf6eff6e3"
      },
      "outputs": [
        {
          "output_type": "stream",
          "name": "stdout",
          "text": [
            "occurrence of element is=  3\n"
          ]
        }
      ],
      "source": [
        "#29. write a code that takes a tuple & an element as input. the function should return the count of occurrences\n",
        "#of the given element in the tuple.\n",
        "input_tuple=(1,2,2,3,4,5,6,6,2)\n",
        "element=2\n",
        "count=input_tuple.count(element)\n",
        "print(\"occurrence of element is= \",count)"
      ]
    },
    {
      "cell_type": "code",
      "execution_count": 24,
      "id": "06a4951d-d86a-42b7-9924-64280339622b",
      "metadata": {
        "colab": {
          "base_uri": "https://localhost:8080/"
        },
        "id": "06a4951d-d86a-42b7-9924-64280339622b",
        "outputId": "21462243-c96e-4753-8ccc-8a60eefd0b5a"
      },
      "outputs": [
        {
          "output_type": "stream",
          "name": "stdout",
          "text": [
            "enter strings for the set11 2 3 4 5 \n",
            "enter strings for the set23 5 7 8 9\n",
            "{'1', '2', '8', '4', '7', '9'}\n"
          ]
        }
      ],
      "source": [
        "#30 develop a code that prompts the user to input 2 sets of strings then ,print the symmetric difference of\n",
        "#these 2 sets.\n",
        "set1=set(input(\"enter strings for the set1\").split())\n",
        "set2=set(input(\"enter strings for the set2\").split())\n",
        "result=set1.symmetric_difference(set2)\n",
        "print(result)"
      ]
    },
    {
      "cell_type": "code",
      "execution_count": 26,
      "id": "154c9cda-4ed7-44ae-9cb3-b6143b33a5d2",
      "metadata": {
        "colab": {
          "base_uri": "https://localhost:8080/"
        },
        "id": "154c9cda-4ed7-44ae-9cb3-b6143b33a5d2",
        "outputId": "1c87c2cc-6f06-47cf-c6d2-0a415d2a8edd"
      },
      "outputs": [
        {
          "output_type": "stream",
          "name": "stdout",
          "text": [
            "word frequencies are=  {'red': 3, 'blue': 1, 'green': 2, 'yellow': 1}\n"
          ]
        }
      ],
      "source": [
        "#31.write a code that takes a list of words as input and returns a dictionary where the keys are unique words &\n",
        "#the values are the frequencies of those words in the input list\n",
        "input_dict=[\"red\",\"blue\",\"green\",\"red\",\"green\",\"yellow\",\"red\"]\n",
        "count={}\n",
        "for i in input_dict:\n",
        "  if i in count:\n",
        "    count[i]+=1\n",
        "  else:\n",
        "    count[i]=1\n",
        "print(\"word frequencies are= \",count)"
      ]
    },
    {
      "cell_type": "code",
      "execution_count": 27,
      "id": "539ca8fd-a759-449c-b809-7fe9db78fdea",
      "metadata": {
        "colab": {
          "base_uri": "https://localhost:8080/"
        },
        "id": "539ca8fd-a759-449c-b809-7fe9db78fdea",
        "outputId": "c6498708-c6af-42c0-a4a3-1d7a7b98fe47"
      },
      "outputs": [
        {
          "output_type": "stream",
          "name": "stdout",
          "text": [
            "{'a': 10, 'b': 25, 'c': 45, 'd': 25}\n"
          ]
        }
      ],
      "source": [
        "#32 write a code that takes 2 dictionary as input and merges them into a single dictionary if there are common\n",
        "#keys, the values should be added together\n",
        "dict1 = {'a': 10, 'b': 20, 'c': 30}\n",
        "dict2 = {'b': 5, 'c': 15, 'd': 25}\n",
        "merged_dict = dict1.copy()\n",
        "for key,value in dict2.items():\n",
        "    if key in merged_dict:\n",
        "      merged_dict[key]+=value\n",
        "    else:\n",
        "      merged_dict[key]=value\n",
        "print(merged_dict)"
      ]
    },
    {
      "cell_type": "code",
      "execution_count": 49,
      "id": "60a1ac3c-5c40-40ab-b2e3-377cc8d787a4",
      "metadata": {
        "colab": {
          "base_uri": "https://localhost:8080/"
        },
        "id": "60a1ac3c-5c40-40ab-b2e3-377cc8d787a4",
        "outputId": "5350e163-e7f2-48d3-894a-7646d7be2eae"
      },
      "outputs": [
        {
          "output_type": "stream",
          "name": "stdout",
          "text": [
            "Value: 10\n"
          ]
        }
      ],
      "source": [
        "#33 write a code to access a value in a nested dictionary. the function should take the dictionary and a list\n",
        "# of keys as input, and return the corresponding value. if any of the keys do not exist in the dictionary, the\n",
        "#function should return none.\n",
        "def get_nested_value(d, keys):\n",
        "    current = d\n",
        "    for key in keys:\n",
        "        if key in current:\n",
        "            current = current[key]\n",
        "        else:\n",
        "            return None\n",
        "    return current\n",
        "nested_dict={'a': {'b': {'c': 10}}}\n",
        "keys_list = ['a', 'b', 'c']\n",
        "value = get_nested_value(nested_dict, keys_list)\n",
        "\n",
        "print(\"Value:\", value)\n"
      ]
    },
    {
      "cell_type": "code",
      "execution_count": 39,
      "id": "f6957a37-891f-4872-b05a-b98fbec60055",
      "metadata": {
        "colab": {
          "base_uri": "https://localhost:8080/"
        },
        "id": "f6957a37-891f-4872-b05a-b98fbec60055",
        "outputId": "f01dc61e-bba4-44d2-a4e2-7bb6e3dffa48"
      },
      "outputs": [
        {
          "output_type": "stream",
          "name": "stdout",
          "text": [
            "Ascending order= {'a': 10, 'b': 20, 'c': 30}\n",
            "Descending order= {'c': 30, 'b': 20, 'a': 10}\n"
          ]
        }
      ],
      "source": [
        "#34 write a code that takes a dictionary aa input  and returns a sorted version of it\n",
        "#based on the values. u can chose whether  to sort in ascending or descending order\n",
        "input_dict= {'a': 10, 'b': 20, 'c': 30}\n",
        "asc_sorted_dict=dict(sorted(input_dict.items(),key=lambda x:x[1]))\n",
        "dsc_sorted_dict=dict(sorted(input_dict.items(),key=lambda x:x[1],reverse=True))\n",
        "print(\"Ascending order=\",asc_sorted_dict)\n",
        "print(\"Descending order=\",dsc_sorted_dict)\n"
      ]
    },
    {
      "cell_type": "code",
      "execution_count": 46,
      "id": "2a9e3c53-962a-4a0c-ba6e-8af4e5dbfe6c",
      "metadata": {
        "colab": {
          "base_uri": "https://localhost:8080/"
        },
        "id": "2a9e3c53-962a-4a0c-ba6e-8af4e5dbfe6c",
        "outputId": "cc63aa71-cb0d-4d5c-bb53-2adb5b58b6d1"
      },
      "outputs": [
        {
          "output_type": "stream",
          "name": "stdout",
          "text": [
            "Inverted dictionary=  {1: ['a', 'c'], 2: ['b', 'e'], 3: ['d']}\n"
          ]
        }
      ],
      "source": [
        "#35 write a code that inverts a dictionary, swapping keys and values. ensure that the inverted dictionary\n",
        "#correctly handles cases where multiple keys have the same value by sorting the keys as a list in the inverted\n",
        "# dictionary\n",
        "ori_dict = {'a': 1, 'b': 2, 'c': 1, 'd': 3,'e':2}\n",
        "inv_dict={}\n",
        "for key,value in ori_dict.items():\n",
        "  if value in inv_dict:\n",
        "    inv_dict[value].append(key)\n",
        "  else:\n",
        "    inv_dict[value]=[key]\n",
        "print(\"Inverted dictionary= \",inv_dict)"
      ]
    },
    {
      "cell_type": "code",
      "execution_count": null,
      "id": "70ed2fe9-9db8-489c-9bbf-0b6f242497da",
      "metadata": {
        "id": "70ed2fe9-9db8-489c-9bbf-0b6f242497da"
      },
      "outputs": [],
      "source": []
    }
  ],
  "metadata": {
    "kernelspec": {
      "display_name": "Python 3 (ipykernel)",
      "language": "python",
      "name": "python3"
    },
    "language_info": {
      "codemirror_mode": {
        "name": "ipython",
        "version": 3
      },
      "file_extension": ".py",
      "mimetype": "text/x-python",
      "name": "python",
      "nbconvert_exporter": "python",
      "pygments_lexer": "ipython3",
      "version": "3.11.7"
    },
    "colab": {
      "provenance": []
    }
  },
  "nbformat": 4,
  "nbformat_minor": 5
}