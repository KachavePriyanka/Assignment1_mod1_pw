{
 "cells": [
  {
   "cell_type": "markdown",
   "id": "24b45995-b78f-4215-b91d-157b53aeca09",
   "metadata": {},
   "source": [
    "1. discuss string slicing and provide example\n",
    "string slicing is way to extract a substring from a string using starting and end index.\n",
    "syntax:\n",
    "string[start:end:step]\n",
    "start=the index where the slice starts\n",
    "end=the index where the alice ends\n",
    "step= the step size\n",
    "\n",
    "example:\n",
    "text = \"Hello, World!\"5)\r\n",
    "print(text[0:5])  # Output: Heo end\r\n",
    "print(text[7:])  # Output: tep of 2\r\n",
    "print(text[::2])  # Output: Hlo ol!\r\n",
    "\n"
   ]
  },
  {
   "cell_type": "markdown",
   "id": "2ac37497-8543-4844-8c29-1c0bc8665902",
   "metadata": {},
   "source": [
    "2. explain the key feature of lists in python\n",
    "Lists are ordered collections of items which can be of any type.\n",
    "Key Features:\n",
    "Mutable: You can change the elements.\n",
    "Indexed: Each item has an index starting from 0.\n",
    "Can contain duplicate items.\n",
    "vide example"
   ]
  },
  {
   "cell_type": "markdown",
   "id": "a4371ad9-fc38-4f95-af66-ce1c6370a6a9",
   "metadata": {},
   "source": [
    "3. descriibe how to access, modify, and delete elements in a list with example\n",
    "Example:\n",
    "my_list = [10, 20, 30, 40, 50]\n",
    "print(my_list[2])  # Output: 30\n",
    "my_list[2] = 35\n",
    "print(my_list)  # Output: [10, 20, 35, 40, 50]\n",
    "del my_list[2]\n",
    "print(my_list)  # Output: [10, 20, 40, 50]\n"
   ]
  },
  {
   "cell_type": "markdown",
   "id": "8b1dbc6b-ac78-4a1b-929b-8049b5ac47aa",
   "metadata": {},
   "source": [
    "4. compare and contrast tuples and lists with example\n",
    "Tuples:\n",
    "Immutable: Cannot be changed after creation.\n",
    "Defined with parentheses ().\n",
    "Generally used to represent fixed collections of items.\n",
    "\n",
    "Lists:\n",
    "Mutable: Can be changed after creation.\n",
    "Defined with square brackets [].\n",
    "Used for collections of items that can be modified.\n",
    "Example:\n",
    "Tuple:\r\n",
    "my_tuple = 510,920,730)\r\n",
    "print(my_tuple[1])  # Output900 \r\n",
    "# :List\r\n",
    "my_lst = 400, 20, 30]\r\n",
    "my_list[0] = 25\r\n",
    "print(my_list)  # Output:0[10, 25, 30]\r\n"
   ]
  },
  {
   "cell_type": "markdown",
   "id": "8b5dcf56-2543-49f6-a765-2fd20b6b60c2",
   "metadata": {},
   "source": [
    "5. describe the key feature of sets and provide examples of their use\n",
    "Sets are unordered collections of unique items.\n",
    "\n",
    "Key Features:\n",
    "Unordered: Items do not have an index.\n",
    "No duplicates allowed.\n",
    "Mutable: You can add and remove items.\n",
    "\n",
    "Example:\n",
    "my_set = {1, 2, 3, 4}em\r\n",
    "my_set.add(5)\r\n",
    "print(my_set)  # Output: {1, 2, 3, 4n item\r\n",
    "my_set.remove(2)\r\n",
    "print(my_set)  # Output: {1, 3, 4, 5}\r\n"
   ]
  },
  {
   "cell_type": "markdown",
   "id": "e1ca810e-19d2-4c18-a70b-d31a14c0148e",
   "metadata": {},
   "source": [
    "6. discuss the use cases of tuples and sets in python programming\n",
    "Tuples:\n",
    "Use tuples when you have a fixed collection of items.\n",
    "Ideal for representing records (e.g., coordinates, data points).\n",
    "Sets:\n",
    "Use sets when you need to handle unique items and perform operations like union, intersection, or difference."
   ]
  },
  {
   "cell_type": "markdown",
   "id": "28e99bda-5112-40bb-9fd8-424fec3cd329",
   "metadata": {},
   "source": [
    "7. describe how to add , modify and delete items in a dictionary with eg.\n",
    "Dictionaries are collections of key-value pairs.\n",
    "Key Features:\n",
    "Mutable: Can change items.\n",
    "Keys are immutable and unique; values can be of any type.\n",
    "Example:\n",
    "my_dict = {'name': 'Alice', 'age': 20}\n",
    "( Add an itm)\n",
    "em\r\n",
    "my_dict['city'] = 'New York'\r\n",
    "print(my_dict)  # Output: {'name': 'Alice', 'age0: 25, 'city': 'New Yo(}\r\n",
    "\r\n",
    "# Modify )an item\r\n",
    "my_dict['age'] = 26\r\n",
    "print(my_dict)  # Output: {'name': 'Alice', 0age': 26, 'city': 'Ne(ork'}\r\n",
    "\r\n",
    "# Del)ete an item\r\n",
    "del my_dict['city']\r\n",
    "print(my_dict)  # Output: {'name': 'Alic0', 'age': 26}\r\n"
   ]
  },
  {
   "cell_type": "markdown",
   "id": "b81c6ed9-c3c6-47db-828b-4b0b71b19615",
   "metadata": {},
   "source": [
    "8. discuss the imp of dictionary keys being immutable and provide example\n",
    "Immutable keys ensure that the key's value does not change during the dictionary's lifecycle, maintaining the integrity of the dictionary.\n",
    "Examples of immutable keys include strings and numbers, while lists or other dictionaries are mutable and cannot be used as keys."
   ]
  },
  {
   "cell_type": "code",
   "execution_count": null,
   "id": "6b59296a-5f5d-4a1d-a688-209d36de2ae7",
   "metadata": {},
   "outputs": [],
   "source": []
  }
 ],
 "metadata": {
  "kernelspec": {
   "display_name": "Python 3 (ipykernel)",
   "language": "python",
   "name": "python3"
  },
  "language_info": {
   "codemirror_mode": {
    "name": "ipython",
    "version": 3
   },
   "file_extension": ".py",
   "mimetype": "text/x-python",
   "name": "python",
   "nbconvert_exporter": "python",
   "pygments_lexer": "ipython3",
   "version": "3.11.7"
  }
 },
 "nbformat": 4,
 "nbformat_minor": 5
}
