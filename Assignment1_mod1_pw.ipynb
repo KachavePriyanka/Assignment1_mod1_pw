{
 "cells": [
  {
   "cell_type": "markdown",
   "id": "d819cdba-662c-4e96-9c9d-f4ed3549587e",
   "metadata": {},
   "source": [
    "1. Explain the key feature of python that make it popular choice for programming.\n",
    "1)Readable and Simple:\n",
    "Python syntax  is designed to be easy to read and understand, the use of indentation for code blocks instead of braces enhances readability and reduces the chances of errors. \n",
    "2)Dynamic Typing:\n",
    "Python allows to assign different data types to variables at runtime ,that making it more flexible compared to statistically typed languages.\n",
    "3)Object-Oriented Programming:\n",
    "Python supports encapsulation ,inheritance , polymorphism .\n",
    "Encapsulation: Python supports encapsulation, allowing you to group data and functions together into objects.\n",
    "Inheritance: Inheritance enables you to create new classes that inherit properties and methods from existing classes.\n",
    "Polymorphism: Polymorphism allows objects of different classes to be treated as if they were of the same type.\n",
    "4)Versatility and Applicability\n",
    "Wide Range of Application: Python can be used for various tasks, including web development, data analysis, scientific computing, machine learning, automation, and more.\n"
   ]
  },
  {
   "cell_type": "markdown",
   "id": "58e88f4c-ddb1-4eef-bc77-cb9e40f31e4d",
   "metadata": {},
   "source": [
    "2.Describe the role of predefined keywords in Python and provide examples of how they are used in a program.\n",
    "Keywords are reserved words in python that have a specific meaning and specific purpose .\n",
    "Keywords cannot be used as variables/identifier/class name. \n",
    "Following are some common example:\n",
    "•\tif, else, elif: Used for conditional statements to execute code based on certain conditions.\n",
    "•\tfor, while: Used for loops to iterate over sequences or execute code repeatedly until a condition is met.\n",
    "•\tdef: Used to define functions.\n",
    "•\treturn: Used to return values from functions.\n",
    "•\timport: Used to import modules and their functions.\n",
    "•\tand, or, not: Used for logical operations.\n"
   ]
  },
  {
   "cell_type": "markdown",
   "id": "58d8463e-46da-4103-a567-64b53c1af312",
   "metadata": {},
   "source": [
    "3.Compare and contrast mutable and immutable objects in Python with examples \n",
    "Mutable Objects:\n",
    "Mutable objects can be modified after creation. Example include list ,dictionary and set.\n",
    "Immutable Object:\n",
    "Immutable objects cannot be changed once created. Example include tuple, numbers  and string\n",
    "\n"
   ]
  },
  {
   "cell_type": "markdown",
   "id": "503e39d0-b213-4f9a-8146-d1ae297bd3ef",
   "metadata": {},
   "source": [
    "4.Discuss the different types of operators in Python and provide examples of how they are used\n",
    "Following are the different types of operators in python:\n",
    "Arithmetic operator:+ ,-,*,/ ,//,%, **\n",
    "Comparison operator:  ==, != , <,>, <=, >=\n",
    "Logical operator:  and , or , not\n",
    "Membership operator:  in , not in\n",
    "Assignment operator: =, +=, -=, *=, /=, //=\n",
    "Identity operator: is, is not\n"
   ]
  },
  {
   "cell_type": "markdown",
   "id": "581b43d6-27ea-4b46-be57-6bd9bf0c919f",
   "metadata": {},
   "source": [
    "\n",
    "5.Explain the concept of type casting in Python with examples\n",
    "Type casting involves converting one data type to another. Python provides built-in functions like int(), float(), str(), bool() for this purpose\n"
   ]
  },
  {
   "cell_type": "markdown",
   "id": "bb82667e-6e95-4d3c-8581-198561652c54",
   "metadata": {},
   "source": [
    "6.How do conditional statements work in Python? Illustrate with examples\n",
    "Conditional statements allow you to execute different code blocks based on specific conditions. Python uses the if, else, and elif keywords for this purpose.\n",
    "age = 25 if age >= 18: \n",
    "        print(\"You are an adult.\") \n",
    "else: \n",
    "        print(\"You are not a adult.”)\n",
    "\n",
    "7.Describe the different types of loops in Python and their use cases with examples.\n",
    "for loops: Used to iterate over sequences (like lists, tuples, strings).\n",
    "while loops: Used to execute code repeatedly until a condition becomes false.\n",
    "For loop \n",
    "fruits = [\"apple\", \"banana\",\"orange\"]\n",
    " for fruit in fruits: \n",
    "       print(fruit) \n",
    "While loop \n",
    "count = 0 \n",
    "while count < 5: \n",
    "     print(\"Count:\", count) \n",
    "    count+=1   \n",
    "\n"
   ]
  },
  {
   "cell_type": "code",
   "execution_count": null,
   "id": "63f0c31d-743c-4d72-b020-5c461c50d55e",
   "metadata": {},
   "outputs": [],
   "source": []
  }
 ],
 "metadata": {
  "kernelspec": {
   "display_name": "Python 3 (ipykernel)",
   "language": "python",
   "name": "python3"
  },
  "language_info": {
   "codemirror_mode": {
    "name": "ipython",
    "version": 3
   },
   "file_extension": ".py",
   "mimetype": "text/x-python",
   "name": "python",
   "nbconvert_exporter": "python",
   "pygments_lexer": "ipython3",
   "version": "3.10.8"
  }
 },
 "nbformat": 4,
 "nbformat_minor": 5
}
